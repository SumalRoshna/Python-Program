{
  "nbformat": 4,
  "nbformat_minor": 0,
  "metadata": {
    "colab": {
      "name": "custom error Invalid login credential.ipynb",
      "provenance": [],
      "authorship_tag": "ABX9TyOiIgPwjZpMX3R/KZY6tzaD"
    },
    "kernelspec": {
      "name": "python3",
      "display_name": "Python 3"
    }
  },
  "cells": [
    {
      "cell_type": "code",
      "metadata": {
        "colab": {
          "base_uri": "https://localhost:8080/"
        },
        "id": "BPG84espOj6L",
        "outputId": "ad2740bf-26e1-401c-b41f-85a2da650388"
      },
      "source": [
        "class MyException ( Exception ) : pass\r\n",
        "username= \"Sumal123\"\r\n",
        "password=\"123456\"\r\n",
        "try:\r\n",
        "  a =( input ('Enter the username : ' ) )\r\n",
        "  b=input(\"Entet the password: \")\r\n",
        "  if a ==username and b==password:\r\n",
        "    print(\"Login successful\")\r\n",
        "  else:\r\n",
        "    raise MyException(\"Invalid username or password!!\")\r\n",
        "except MyException as e:\r\n",
        "  print( e )"
      ],
      "execution_count": null,
      "outputs": [
        {
          "output_type": "stream",
          "text": [
            "Enter the username : qwerty\n",
            "Entet the password: 123456\n",
            "Invalid username or password!!\n"
          ],
          "name": "stdout"
        }
      ]
    }
  ]
}